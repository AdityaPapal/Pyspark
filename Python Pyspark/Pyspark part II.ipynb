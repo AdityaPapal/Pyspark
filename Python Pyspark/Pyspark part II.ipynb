{
 "cells": [
  {
   "cell_type": "code",
   "execution_count": 1,
   "id": "03e6f4b2-f06e-4891-b977-918e3bbe1cd8",
   "metadata": {},
   "outputs": [],
   "source": [
    "import pyspark"
   ]
  },
  {
   "cell_type": "code",
   "execution_count": 2,
   "id": "6d503e9a-89a9-4c6f-a616-5e8274a2fc9c",
   "metadata": {},
   "outputs": [],
   "source": [
    "from pyspark.sql import SparkSession"
   ]
  },
  {
   "cell_type": "code",
   "execution_count": 3,
   "id": "8dc3ab69-faed-47d1-b76b-07b23e2c3902",
   "metadata": {},
   "outputs": [],
   "source": [
    "spark = SparkSession.builder.appName('Pyspark Part -II').getOrCreate()"
   ]
  },
  {
   "cell_type": "code",
   "execution_count": 4,
   "id": "e9ee566a-0f5e-4b03-9826-1075893bd5ba",
   "metadata": {},
   "outputs": [
    {
     "data": {
      "text/html": [
       "\n",
       "            <div>\n",
       "                <p><b>SparkSession - in-memory</b></p>\n",
       "                \n",
       "        <div>\n",
       "            <p><b>SparkContext</b></p>\n",
       "\n",
       "            <p><a href=\"http://Aditya:4040\">Spark UI</a></p>\n",
       "\n",
       "            <dl>\n",
       "              <dt>Version</dt>\n",
       "                <dd><code>v3.5.5</code></dd>\n",
       "              <dt>Master</dt>\n",
       "                <dd><code>local[*]</code></dd>\n",
       "              <dt>AppName</dt>\n",
       "                <dd><code>Pyspark Part -II</code></dd>\n",
       "            </dl>\n",
       "        </div>\n",
       "        \n",
       "            </div>\n",
       "        "
      ],
      "text/plain": [
       "<pyspark.sql.session.SparkSession at 0x2371084fc20>"
      ]
     },
     "execution_count": 4,
     "metadata": {},
     "output_type": "execute_result"
    }
   ],
   "source": [
    "spark"
   ]
  },
  {
   "cell_type": "code",
   "execution_count": 5,
   "id": "50998109-13aa-4b00-abdd-e191a7f71f1c",
   "metadata": {},
   "outputs": [],
   "source": [
    "df = spark.read.csv('test.csv',header=True,inferSchema=True)"
   ]
  },
  {
   "cell_type": "code",
   "execution_count": 6,
   "id": "8bf0618b-009e-4a83-ada6-67430843b1e9",
   "metadata": {},
   "outputs": [
    {
     "name": "stdout",
     "output_type": "stream",
     "text": [
      "+---------+----+----------+------+\n",
      "|     Name| age|Experience|Salary|\n",
      "+---------+----+----------+------+\n",
      "|    Krish|  31|        10| 30000|\n",
      "|Sudhanshu|  30|         8| 25000|\n",
      "|    Sunny|  29|         4| 20000|\n",
      "|     Paul|  24|         3| 20000|\n",
      "|   Harsha|  21|         1| 15000|\n",
      "|  Shubham|  23|         2| 18000|\n",
      "|   Mahesh|NULL|      NULL| 40000|\n",
      "|     NULL|  34|        10| 38000|\n",
      "|     NULL|  36|      NULL|  NULL|\n",
      "+---------+----+----------+------+\n",
      "\n"
     ]
    }
   ],
   "source": [
    "df.show()"
   ]
  },
  {
   "cell_type": "code",
   "execution_count": 7,
   "id": "376d7933-67a9-4fd6-a767-a55387bb3953",
   "metadata": {},
   "outputs": [
    {
     "data": {
      "text/plain": [
       "[('Name', 'string'), ('age', 'int'), ('Experience', 'int'), ('Salary', 'int')]"
      ]
     },
     "execution_count": 7,
     "metadata": {},
     "output_type": "execute_result"
    }
   ],
   "source": [
    "df.dtypes"
   ]
  },
  {
   "cell_type": "markdown",
   "id": "d98f6006-6638-48be-ba84-3b145a4658d9",
   "metadata": {},
   "source": [
    "# drop all NULL values \n",
    "whenever null values occurs all rows get deleted"
   ]
  },
  {
   "cell_type": "code",
   "execution_count": 9,
   "id": "faf796c3-3f8e-458d-adbb-87dad0931fa2",
   "metadata": {},
   "outputs": [],
   "source": [
    "without_null_data = df.na.drop()"
   ]
  },
  {
   "cell_type": "code",
   "execution_count": 10,
   "id": "e5a3f54c-6d04-4840-bd12-431ab10abfbb",
   "metadata": {},
   "outputs": [
    {
     "name": "stdout",
     "output_type": "stream",
     "text": [
      "+---------+---+----------+------+\n",
      "|     Name|age|Experience|Salary|\n",
      "+---------+---+----------+------+\n",
      "|    Krish| 31|        10| 30000|\n",
      "|Sudhanshu| 30|         8| 25000|\n",
      "|    Sunny| 29|         4| 20000|\n",
      "|     Paul| 24|         3| 20000|\n",
      "|   Harsha| 21|         1| 15000|\n",
      "|  Shubham| 23|         2| 18000|\n",
      "+---------+---+----------+------+\n",
      "\n"
     ]
    }
   ],
   "source": [
    "without_null_data.show()"
   ]
  },
  {
   "cell_type": "raw",
   "id": "ec5ead04-dd7e-47df-8bab-15ec464e1f44",
   "metadata": {},
   "source": [
    "How attribute in drop method \n",
    "\n",
    "how == all : if there is row present in dataframe that cantains all columns null values such a row get deleted \n",
    "\n",
    "how == any : delete all null values columnns "
   ]
  },
  {
   "cell_type": "code",
   "execution_count": 11,
   "id": "3f82e1bd-1c3c-4bc9-b105-e36c40662f5f",
   "metadata": {},
   "outputs": [],
   "source": [
    "how_df = df.na.drop(how='all')"
   ]
  },
  {
   "cell_type": "code",
   "execution_count": 12,
   "id": "81df6471-334d-4678-bc8e-9164aab63ca4",
   "metadata": {},
   "outputs": [
    {
     "name": "stdout",
     "output_type": "stream",
     "text": [
      "+---------+----+----------+------+\n",
      "|     Name| age|Experience|Salary|\n",
      "+---------+----+----------+------+\n",
      "|    Krish|  31|        10| 30000|\n",
      "|Sudhanshu|  30|         8| 25000|\n",
      "|    Sunny|  29|         4| 20000|\n",
      "|     Paul|  24|         3| 20000|\n",
      "|   Harsha|  21|         1| 15000|\n",
      "|  Shubham|  23|         2| 18000|\n",
      "|   Mahesh|NULL|      NULL| 40000|\n",
      "|     NULL|  34|        10| 38000|\n",
      "|     NULL|  36|      NULL|  NULL|\n",
      "+---------+----+----------+------+\n",
      "\n"
     ]
    }
   ],
   "source": [
    "how_df.show()"
   ]
  },
  {
   "cell_type": "raw",
   "id": "1fee611d-cae9-42c0-9afe-fa304f24e859",
   "metadata": {},
   "source": [
    "Threshold in drop funtion\n",
    "\n",
    "threshold = n : At least n null value should be present"
   ]
  },
  {
   "cell_type": "code",
   "execution_count": 13,
   "id": "43ab5cdc-91b4-40cd-82cd-7a670d7f91a0",
   "metadata": {},
   "outputs": [],
   "source": [
    "threshold_df = df.na.drop(how=\"any\",thresh=2)"
   ]
  },
  {
   "cell_type": "code",
   "execution_count": 14,
   "id": "98956d07-90a9-4fe8-a23e-ea568d1b72e4",
   "metadata": {},
   "outputs": [
    {
     "name": "stdout",
     "output_type": "stream",
     "text": [
      "+---------+----+----------+------+\n",
      "|     Name| age|Experience|Salary|\n",
      "+---------+----+----------+------+\n",
      "|    Krish|  31|        10| 30000|\n",
      "|Sudhanshu|  30|         8| 25000|\n",
      "|    Sunny|  29|         4| 20000|\n",
      "|     Paul|  24|         3| 20000|\n",
      "|   Harsha|  21|         1| 15000|\n",
      "|  Shubham|  23|         2| 18000|\n",
      "|   Mahesh|NULL|      NULL| 40000|\n",
      "|     NULL|  34|        10| 38000|\n",
      "+---------+----+----------+------+\n",
      "\n"
     ]
    }
   ],
   "source": [
    "threshold_df.show()"
   ]
  },
  {
   "cell_type": "raw",
   "id": "d63f0f39-2d66-4263-9f9a-62679f761f83",
   "metadata": {},
   "source": [
    "Subset in drop columns \n",
    "\n",
    "subset: cantain list of columns that we want delete null values\n"
   ]
  },
  {
   "cell_type": "code",
   "execution_count": 15,
   "id": "b4320584-f2c7-42f1-8245-520c349d046d",
   "metadata": {},
   "outputs": [],
   "source": [
    "name_df = df.na.drop(how='any',subset=['Name'])"
   ]
  },
  {
   "cell_type": "code",
   "execution_count": 16,
   "id": "c4a32066-559a-46a5-bbe6-babfd11f7420",
   "metadata": {},
   "outputs": [
    {
     "name": "stdout",
     "output_type": "stream",
     "text": [
      "+---------+----+----------+------+\n",
      "|     Name| age|Experience|Salary|\n",
      "+---------+----+----------+------+\n",
      "|    Krish|  31|        10| 30000|\n",
      "|Sudhanshu|  30|         8| 25000|\n",
      "|    Sunny|  29|         4| 20000|\n",
      "|     Paul|  24|         3| 20000|\n",
      "|   Harsha|  21|         1| 15000|\n",
      "|  Shubham|  23|         2| 18000|\n",
      "|   Mahesh|NULL|      NULL| 40000|\n",
      "+---------+----+----------+------+\n",
      "\n"
     ]
    }
   ],
   "source": [
    "name_df.show()"
   ]
  },
  {
   "cell_type": "markdown",
   "id": "4590d44c-9154-4557-8313-00fcfc5937ad",
   "metadata": {},
   "source": [
    "# Fill missing values"
   ]
  },
  {
   "cell_type": "code",
   "execution_count": 18,
   "id": "4f20ed44-996d-45b0-ba22-50b07c79d788",
   "metadata": {},
   "outputs": [
    {
     "name": "stdout",
     "output_type": "stream",
     "text": [
      "+---------+----+----------+------+\n",
      "|     Name| age|Experience|Salary|\n",
      "+---------+----+----------+------+\n",
      "|    Krish|  31|        10| 30000|\n",
      "|Sudhanshu|  30|         8| 25000|\n",
      "|    Sunny|  29|         4| 20000|\n",
      "|     Paul|  24|         3| 20000|\n",
      "|   Harsha|  21|         1| 15000|\n",
      "|  Shubham|  23|         2| 18000|\n",
      "|   Mahesh|NULL|      NULL| 40000|\n",
      "|     NULL|  34|        10| 38000|\n",
      "|     NULL|  36|      NULL|  NULL|\n",
      "+---------+----+----------+------+\n",
      "\n"
     ]
    }
   ],
   "source": [
    "df.show()"
   ]
  },
  {
   "cell_type": "code",
   "execution_count": 19,
   "id": "cfc7df54-43ea-45f0-9a94-fa03851e754d",
   "metadata": {},
   "outputs": [],
   "source": [
    "# fill data from name which cantains null values"
   ]
  },
  {
   "cell_type": "code",
   "execution_count": 20,
   "id": "7b3b07c2-4465-4b93-b090-a5ac0fbf03b5",
   "metadata": {},
   "outputs": [],
   "source": [
    "name_df = df.na.fill('Missing name',['Name'])"
   ]
  },
  {
   "cell_type": "code",
   "execution_count": 21,
   "id": "7075bc70-0d76-445d-9ace-2797dd51af44",
   "metadata": {},
   "outputs": [
    {
     "name": "stdout",
     "output_type": "stream",
     "text": [
      "+------------+----+----------+------+\n",
      "|        Name| age|Experience|Salary|\n",
      "+------------+----+----------+------+\n",
      "|       Krish|  31|        10| 30000|\n",
      "|   Sudhanshu|  30|         8| 25000|\n",
      "|       Sunny|  29|         4| 20000|\n",
      "|        Paul|  24|         3| 20000|\n",
      "|      Harsha|  21|         1| 15000|\n",
      "|     Shubham|  23|         2| 18000|\n",
      "|      Mahesh|NULL|      NULL| 40000|\n",
      "|Missing name|  34|        10| 38000|\n",
      "|Missing name|  36|      NULL|  NULL|\n",
      "+------------+----+----------+------+\n",
      "\n"
     ]
    }
   ],
   "source": [
    "name_df.show()"
   ]
  },
  {
   "cell_type": "code",
   "execution_count": null,
   "id": "3c3734fb-676c-471d-b135-367cf09c1ab1",
   "metadata": {},
   "outputs": [],
   "source": []
  },
  {
   "cell_type": "code",
   "execution_count": 22,
   "id": "42d74b50-e242-450b-a01e-38cf22cf796d",
   "metadata": {},
   "outputs": [],
   "source": [
    "# union "
   ]
  },
  {
   "cell_type": "code",
   "execution_count": 23,
   "id": "f4ce3135-c05c-47c4-8409-742797814cff",
   "metadata": {},
   "outputs": [],
   "source": [
    "simpleData = [(\"James\",\"Sales\",\"NY\",90000,34,10000), \\\n",
    "    (\"Michael\",\"Sales\",\"NY\",86000,56,20000), \\\n",
    "    (\"Robert\",\"Sales\",\"CA\",81000,30,23000), \\\n",
    "    (\"Maria\",\"Finance\",\"CA\",90000,24,23000) \\\n",
    "  ]\n",
    "\n",
    "columns= [\"employee_name\",\"department\",\"state\",\"salary\",\"age\",\"bonus\"]\n",
    "df = spark.createDataFrame(data = simpleData, schema = columns)"
   ]
  },
  {
   "cell_type": "code",
   "execution_count": 46,
   "id": "5044645e-3171-40eb-87a8-bf2a17a83cbc",
   "metadata": {},
   "outputs": [],
   "source": [
    "simpleData2 = [(\"James\",\"Sales\",\"NY\",90000,34,10000), \\\n",
    "    (\"Maria\",\"Finance\",\"CA\",90000,24,23000), \\\n",
    "    (\"Jen\",\"Finance\",\"NY\",79000,53,15000), \\\n",
    "    (\"Jeff\",\"Marketing\",\"CA\",80000,25,18000), \\\n",
    "    (\"Kumar\",\"Marketing\",\"NY\",91000,50,21000) \\\n",
    "  ]\n",
    "columns2= [\"employee_name\",\"department\",\"state\",\"salary\",\"age\",\"bonus\"]\n",
    "\n",
    "df2 = spark.createDataFrame(data = simpleData2, schema = columns2)\n"
   ]
  },
  {
   "cell_type": "code",
   "execution_count": null,
   "id": "1f9885e1-5fd4-4c20-9c39-6f2463c19218",
   "metadata": {},
   "outputs": [],
   "source": []
  },
  {
   "cell_type": "code",
   "execution_count": null,
   "id": "9c6a432b-2927-419a-b1c6-95d39d15ae3f",
   "metadata": {},
   "outputs": [],
   "source": [
    "df.show()"
   ]
  },
  {
   "cell_type": "code",
   "execution_count": null,
   "id": "3b40f8f9-e981-4f73-9c45-0e1eda8f8212",
   "metadata": {},
   "outputs": [],
   "source": [
    "df2.show()"
   ]
  },
  {
   "cell_type": "code",
   "execution_count": null,
   "id": "9474550d-cb8d-423a-b0db-de5327e003d1",
   "metadata": {},
   "outputs": [],
   "source": [
    "unionDF = df.union(df2)"
   ]
  },
  {
   "cell_type": "code",
   "execution_count": null,
   "id": "70ef5ee9-84c0-4b52-81ee-61a55c76170b",
   "metadata": {},
   "outputs": [],
   "source": [
    "# Remove duplicates after union() using distinct()\n",
    "disDF = df.union(df2).distinct()\n",
    "disDF.show(truncate=False)"
   ]
  },
  {
   "cell_type": "code",
   "execution_count": null,
   "id": "34365a0c-6b7a-40b3-8a92-ef3d1539e678",
   "metadata": {},
   "outputs": [],
   "source": []
  }
 ],
 "metadata": {
  "kernelspec": {
   "display_name": "Python [conda env:base] *",
   "language": "python",
   "name": "conda-base-py"
  },
  "language_info": {
   "codemirror_mode": {
    "name": "ipython",
    "version": 3
   },
   "file_extension": ".py",
   "mimetype": "text/x-python",
   "name": "python",
   "nbconvert_exporter": "python",
   "pygments_lexer": "ipython3",
   "version": "3.12.4"
  }
 },
 "nbformat": 4,
 "nbformat_minor": 5
}
