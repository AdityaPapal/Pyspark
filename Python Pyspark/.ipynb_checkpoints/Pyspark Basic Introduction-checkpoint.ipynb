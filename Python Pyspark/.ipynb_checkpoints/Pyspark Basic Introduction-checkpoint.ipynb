{
 "cells": [
  {
   "cell_type": "code",
   "execution_count": 1,
   "id": "9b02e3dd-df0c-44bd-99c9-0ad313118b3e",
   "metadata": {},
   "outputs": [],
   "source": [
    "# Pyspark"
   ]
  },
  {
   "cell_type": "code",
   "execution_count": 5,
   "id": "c199e5aa-10fb-4f8f-9e61-334c7d2f04da",
   "metadata": {},
   "outputs": [],
   "source": [
    "import pyspark"
   ]
  },
  {
   "cell_type": "code",
   "execution_count": 7,
   "id": "f6ab582d-ea1a-4129-9190-d63dfb1f9408",
   "metadata": {},
   "outputs": [],
   "source": [
    "from pyspark.sql import SparkSession"
   ]
  },
  {
   "cell_type": "code",
   "execution_count": 9,
   "id": "f830d758-0754-439b-b220-7e4d10eae57d",
   "metadata": {},
   "outputs": [
    {
     "ename": "TypeError",
     "evalue": "SparkSession.__init__() missing 1 required positional argument: 'sparkContext'",
     "output_type": "error",
     "traceback": [
      "\u001b[1;31m---------------------------------------------------------------------------\u001b[0m",
      "\u001b[1;31mTypeError\u001b[0m                                 Traceback (most recent call last)",
      "Cell \u001b[1;32mIn[9], line 1\u001b[0m\n\u001b[1;32m----> 1\u001b[0m spark \u001b[38;5;241m=\u001b[39m SparkSession()\n",
      "\u001b[1;31mTypeError\u001b[0m: SparkSession.__init__() missing 1 required positional argument: 'sparkContext'"
     ]
    }
   ],
   "source": [
    "spark = SparkSession()"
   ]
  },
  {
   "cell_type": "code",
   "execution_count": null,
   "id": "bbab29f3-469d-4ba7-819d-885884deea18",
   "metadata": {},
   "outputs": [],
   "source": []
  }
 ],
 "metadata": {
  "kernelspec": {
   "display_name": "Python [conda env:base] *",
   "language": "python",
   "name": "conda-base-py"
  },
  "language_info": {
   "codemirror_mode": {
    "name": "ipython",
    "version": 3
   },
   "file_extension": ".py",
   "mimetype": "text/x-python",
   "name": "python",
   "nbconvert_exporter": "python",
   "pygments_lexer": "ipython3",
   "version": "3.12.4"
  }
 },
 "nbformat": 4,
 "nbformat_minor": 5
}
