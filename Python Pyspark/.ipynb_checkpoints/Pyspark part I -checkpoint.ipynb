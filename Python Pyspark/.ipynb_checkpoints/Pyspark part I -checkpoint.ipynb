{
 "cells": [
  {
   "cell_type": "raw",
   "id": "ef4d2090-ab51-435d-bcdf-b0666d0dad77",
   "metadata": {},
   "source": [
    "PySpark Dataframe\n",
    "Reading The Dataset\n",
    "Checking the Datatypes of the Column(Schema)\n",
    "Selecting Columns And Indexing\n",
    "Check Describe option similar to Pandas\n",
    "Adding Columns\n",
    "Dropping columns\n",
    "Renaming Columns"
   ]
  },
  {
   "cell_type": "code",
   "execution_count": 1,
   "id": "13572568-9a9b-4151-b226-4f09879415ee",
   "metadata": {},
   "outputs": [],
   "source": [
    "import pyspark"
   ]
  },
  {
   "cell_type": "code",
   "execution_count": 2,
   "id": "2c174871-92cf-438d-bbf2-2982dd9db066",
   "metadata": {},
   "outputs": [],
   "source": [
    "from pyspark.sql import SparkSession"
   ]
  },
  {
   "cell_type": "code",
   "execution_count": 3,
   "id": "303682b2-d1e3-436f-b3d6-7d22ee80a62c",
   "metadata": {},
   "outputs": [],
   "source": [
    "spark = SparkSession.builder.appName('Part I - Learning').getOrCreate()"
   ]
  },
  {
   "cell_type": "code",
   "execution_count": 4,
   "id": "cde8cd8c-fa9b-482a-9829-5948f37a7e4c",
   "metadata": {},
   "outputs": [
    {
     "data": {
      "text/html": [
       "\n",
       "            <div>\n",
       "                <p><b>SparkSession - in-memory</b></p>\n",
       "                \n",
       "        <div>\n",
       "            <p><b>SparkContext</b></p>\n",
       "\n",
       "            <p><a href=\"http://Aditya:4041\">Spark UI</a></p>\n",
       "\n",
       "            <dl>\n",
       "              <dt>Version</dt>\n",
       "                <dd><code>v3.5.5</code></dd>\n",
       "              <dt>Master</dt>\n",
       "                <dd><code>local[*]</code></dd>\n",
       "              <dt>AppName</dt>\n",
       "                <dd><code>Part I - Learning</code></dd>\n",
       "            </dl>\n",
       "        </div>\n",
       "        \n",
       "            </div>\n",
       "        "
      ],
      "text/plain": [
       "<pyspark.sql.session.SparkSession at 0x2d68baeb680>"
      ]
     },
     "execution_count": 4,
     "metadata": {},
     "output_type": "execute_result"
    }
   ],
   "source": [
    "spark"
   ]
  },
  {
   "cell_type": "code",
   "execution_count": 5,
   "id": "a1869c3c-1834-444b-9e36-33bfa3314f4b",
   "metadata": {},
   "outputs": [],
   "source": [
    "df = spark.read.option('header','True').csv('example2.csv',inferSchema=True)"
   ]
  },
  {
   "cell_type": "markdown",
   "id": "7430d42c-fc85-49db-8b99-5ef9870b4f5b",
   "metadata": {},
   "source": [
    "# Show functionality()"
   ]
  },
  {
   "cell_type": "code",
   "execution_count": 7,
   "id": "15a9d87a-7440-45df-8edc-2bfc744f7f1a",
   "metadata": {},
   "outputs": [
    {
     "name": "stdout",
     "output_type": "stream",
     "text": [
      "+----+---+----------+\n",
      "|Name|age|Experience|\n",
      "+----+---+----------+\n",
      "|  x1| 10|         1|\n",
      "|  x2| 20|         2|\n",
      "|  x3| 30|         3|\n",
      "|  x4| 40|         4|\n",
      "|  x5| 50|         5|\n",
      "|  x6| 60|         6|\n",
      "|  x7| 70|         7|\n",
      "|  x8| 80|         8|\n",
      "|  x9| 90|         9|\n",
      "| x10|100|        10|\n",
      "+----+---+----------+\n",
      "\n"
     ]
    }
   ],
   "source": [
    "df.show()"
   ]
  },
  {
   "cell_type": "code",
   "execution_count": 8,
   "id": "5c2496b1-8857-4157-b349-d01a4b4cced4",
   "metadata": {},
   "outputs": [
    {
     "name": "stdout",
     "output_type": "stream",
     "text": [
      "+----+---+----------+\n",
      "|Name|age|Experience|\n",
      "+----+---+----------+\n",
      "|  x1| 10|         1|\n",
      "|  x2| 20|         2|\n",
      "|  x3| 30|         3|\n",
      "+----+---+----------+\n",
      "only showing top 3 rows\n",
      "\n"
     ]
    }
   ],
   "source": [
    "df.show(3)"
   ]
  },
  {
   "cell_type": "code",
   "execution_count": 9,
   "id": "3a92d635-56ef-456f-b5f3-19ea67f01d10",
   "metadata": {},
   "outputs": [
    {
     "name": "stdout",
     "output_type": "stream",
     "text": [
      "+----+---+----------+\n",
      "|Name|age|Experience|\n",
      "+----+---+----------+\n",
      "|   x|  1|         1|\n",
      "|   x|  2|         2|\n",
      "|   x|  3|         3|\n",
      "|   x|  4|         4|\n",
      "|   x|  5|         5|\n",
      "|   x|  6|         6|\n",
      "|   x|  7|         7|\n",
      "|   x|  8|         8|\n",
      "|   x|  9|         9|\n",
      "|   x|  1|         1|\n",
      "+----+---+----------+\n",
      "\n"
     ]
    }
   ],
   "source": [
    "df.show(truncate=1)"
   ]
  },
  {
   "cell_type": "code",
   "execution_count": 10,
   "id": "3f55b225-25cc-4821-948c-d3cb39e1cea8",
   "metadata": {},
   "outputs": [
    {
     "name": "stdout",
     "output_type": "stream",
     "text": [
      "-RECORD 0---------\n",
      " Name       | x1  \n",
      " age        | 10  \n",
      " Experience | 1   \n",
      "-RECORD 1---------\n",
      " Name       | x2  \n",
      " age        | 20  \n",
      " Experience | 2   \n",
      "-RECORD 2---------\n",
      " Name       | x3  \n",
      " age        | 30  \n",
      " Experience | 3   \n",
      "only showing top 3 rows\n",
      "\n"
     ]
    }
   ],
   "source": [
    "df.show(3,vertical=True)"
   ]
  },
  {
   "cell_type": "code",
   "execution_count": 11,
   "id": "5172dc00-1759-4760-93b6-970ed308750e",
   "metadata": {},
   "outputs": [
    {
     "name": "stdout",
     "output_type": "stream",
     "text": [
      "root\n",
      " |-- Name: string (nullable = true)\n",
      " |-- age: integer (nullable = true)\n",
      " |-- Experience: integer (nullable = true)\n",
      "\n"
     ]
    }
   ],
   "source": [
    "df.printSchema()"
   ]
  },
  {
   "cell_type": "markdown",
   "id": "0e075221-bd65-4088-abdb-fb486da10e04",
   "metadata": {},
   "source": [
    "# Multiple ways to import Data"
   ]
  },
  {
   "cell_type": "code",
   "execution_count": 13,
   "id": "6571abac-0f63-4ca8-89b5-6b190b29eb29",
   "metadata": {},
   "outputs": [],
   "source": [
    "data = spark.read.csv('example1.csv',header=True,inferSchema=True)"
   ]
  },
  {
   "cell_type": "code",
   "execution_count": 14,
   "id": "3f74331a-3926-4806-88e2-1a2b3da29930",
   "metadata": {},
   "outputs": [
    {
     "name": "stdout",
     "output_type": "stream",
     "text": [
      "+----+---+\n",
      "|Name|age|\n",
      "+----+---+\n",
      "|  x1| 10|\n",
      "|  x2| 20|\n",
      "|  x3| 30|\n",
      "|  x4| 40|\n",
      "|  x5| 50|\n",
      "+----+---+\n",
      "\n"
     ]
    }
   ],
   "source": [
    "data.show()"
   ]
  },
  {
   "cell_type": "code",
   "execution_count": 15,
   "id": "35d78612-b248-4801-a7bc-cb5a8721ea05",
   "metadata": {},
   "outputs": [
    {
     "data": {
      "text/plain": [
       "pyspark.sql.dataframe.DataFrame"
      ]
     },
     "execution_count": 15,
     "metadata": {},
     "output_type": "execute_result"
    }
   ],
   "source": [
    "type(data)"
   ]
  },
  {
   "cell_type": "code",
   "execution_count": 16,
   "id": "d35941eb-034a-41ea-8255-38139ae88467",
   "metadata": {},
   "outputs": [
    {
     "data": {
      "text/plain": [
       "['Name', 'age', 'Experience']"
      ]
     },
     "execution_count": 16,
     "metadata": {},
     "output_type": "execute_result"
    }
   ],
   "source": [
    "df.columns"
   ]
  },
  {
   "cell_type": "code",
   "execution_count": 17,
   "id": "fa402a7f-b05f-4e24-8b7f-c7b1322156b8",
   "metadata": {},
   "outputs": [
    {
     "data": {
      "text/plain": [
       "Column<'Name'>"
      ]
     },
     "execution_count": 17,
     "metadata": {},
     "output_type": "execute_result"
    }
   ],
   "source": [
    "df[0]"
   ]
  },
  {
   "cell_type": "code",
   "execution_count": 18,
   "id": "b18394b2-430d-45c3-9133-3723c431bd0b",
   "metadata": {},
   "outputs": [
    {
     "name": "stdout",
     "output_type": "stream",
     "text": [
      "+----+\n",
      "|Name|\n",
      "+----+\n",
      "|  x1|\n",
      "|  x2|\n",
      "|  x3|\n",
      "|  x4|\n",
      "|  x5|\n",
      "+----+\n",
      "only showing top 5 rows\n",
      "\n"
     ]
    }
   ],
   "source": [
    "df.select('Name').show(5)"
   ]
  },
  {
   "cell_type": "code",
   "execution_count": 19,
   "id": "5156058b-6b8a-4506-ad7d-599d5a52d2aa",
   "metadata": {},
   "outputs": [
    {
     "name": "stdout",
     "output_type": "stream",
     "text": [
      "+----+\n",
      "|Name|\n",
      "+----+\n",
      "|  x1|\n",
      "|  x2|\n",
      "|  x3|\n",
      "+----+\n",
      "only showing top 3 rows\n",
      "\n"
     ]
    }
   ],
   "source": [
    "df.select('Name').show(3)"
   ]
  },
  {
   "cell_type": "code",
   "execution_count": 20,
   "id": "6bb36479-4c3d-400f-85e8-4cf032729b9e",
   "metadata": {},
   "outputs": [
    {
     "data": {
      "text/plain": [
       "[('Name', 'string'), ('age', 'int'), ('Experience', 'int')]"
      ]
     },
     "execution_count": 20,
     "metadata": {},
     "output_type": "execute_result"
    }
   ],
   "source": [
    "df.dtypes"
   ]
  },
  {
   "cell_type": "code",
   "execution_count": 21,
   "id": "6891e759-2d94-4c71-94e0-fc0a5749e7e4",
   "metadata": {},
   "outputs": [
    {
     "name": "stdout",
     "output_type": "stream",
     "text": [
      "+-------+----+------------------+------------------+\n",
      "|summary|Name|               age|        Experience|\n",
      "+-------+----+------------------+------------------+\n",
      "|  count|  10|                10|                10|\n",
      "|   mean|NULL|              55.0|               5.5|\n",
      "| stddev|NULL|30.276503540974915|3.0276503540974917|\n",
      "|    min|  x1|                10|                 1|\n",
      "|    max|  x9|               100|                10|\n",
      "+-------+----+------------------+------------------+\n",
      "\n"
     ]
    }
   ],
   "source": [
    "df.describe().show()"
   ]
  },
  {
   "cell_type": "markdown",
   "id": "971c29cb-ab32-44d7-afd5-42ef5b6d3932",
   "metadata": {},
   "source": [
    "# Add Columns"
   ]
  },
  {
   "cell_type": "code",
   "execution_count": 23,
   "id": "f76e108c-14a1-4658-9c85-20d8cf95d75c",
   "metadata": {},
   "outputs": [],
   "source": [
    "data_2 = df.withColumn('Experience after 3 years',df['Experience']+3)"
   ]
  },
  {
   "cell_type": "code",
   "execution_count": 24,
   "id": "97d81801-a01b-437e-ae7f-50620ff48761",
   "metadata": {},
   "outputs": [
    {
     "name": "stdout",
     "output_type": "stream",
     "text": [
      "+----+---+----------+------------------------+\n",
      "|Name|age|Experience|Experience after 3 years|\n",
      "+----+---+----------+------------------------+\n",
      "|  x1| 10|         1|                       4|\n",
      "|  x2| 20|         2|                       5|\n",
      "|  x3| 30|         3|                       6|\n",
      "|  x4| 40|         4|                       7|\n",
      "|  x5| 50|         5|                       8|\n",
      "|  x6| 60|         6|                       9|\n",
      "|  x7| 70|         7|                      10|\n",
      "|  x8| 80|         8|                      11|\n",
      "|  x9| 90|         9|                      12|\n",
      "| x10|100|        10|                      13|\n",
      "+----+---+----------+------------------------+\n",
      "\n"
     ]
    }
   ],
   "source": [
    "data_2.show()"
   ]
  },
  {
   "cell_type": "markdown",
   "id": "8fbc65a7-3d3f-4510-a9d2-5745d8ccacd2",
   "metadata": {},
   "source": [
    "# Drop Columns"
   ]
  },
  {
   "cell_type": "code",
   "execution_count": 26,
   "id": "c6b97e2b-ebcd-48f8-a55e-83192cddfc93",
   "metadata": {},
   "outputs": [],
   "source": [
    "data_2 = data_2.drop('Experience after 3 years')"
   ]
  },
  {
   "cell_type": "code",
   "execution_count": 27,
   "id": "faba2730-59f2-43a4-9745-2c42bfe8ca2e",
   "metadata": {},
   "outputs": [
    {
     "name": "stdout",
     "output_type": "stream",
     "text": [
      "+----+---+----------+\n",
      "|Name|age|Experience|\n",
      "+----+---+----------+\n",
      "|  x1| 10|         1|\n",
      "|  x2| 20|         2|\n",
      "|  x3| 30|         3|\n",
      "|  x4| 40|         4|\n",
      "|  x5| 50|         5|\n",
      "|  x6| 60|         6|\n",
      "|  x7| 70|         7|\n",
      "|  x8| 80|         8|\n",
      "|  x9| 90|         9|\n",
      "| x10|100|        10|\n",
      "+----+---+----------+\n",
      "\n"
     ]
    }
   ],
   "source": [
    "data_2.show()"
   ]
  },
  {
   "cell_type": "code",
   "execution_count": 28,
   "id": "e9ab4a9c-ac12-4938-aff3-5e946bea81a4",
   "metadata": {},
   "outputs": [],
   "source": [
    "data_2 = data_2.withColumnRenamed('age','Person_age')"
   ]
  },
  {
   "cell_type": "code",
   "execution_count": 29,
   "id": "0e1c1bd8-17fd-4215-9efe-e43a28cadc92",
   "metadata": {},
   "outputs": [
    {
     "name": "stdout",
     "output_type": "stream",
     "text": [
      "+----+----------+----------+\n",
      "|Name|Person_age|Experience|\n",
      "+----+----------+----------+\n",
      "|  x1|        10|         1|\n",
      "|  x2|        20|         2|\n",
      "|  x3|        30|         3|\n",
      "|  x4|        40|         4|\n",
      "|  x5|        50|         5|\n",
      "|  x6|        60|         6|\n",
      "|  x7|        70|         7|\n",
      "|  x8|        80|         8|\n",
      "|  x9|        90|         9|\n",
      "| x10|       100|        10|\n",
      "+----+----------+----------+\n",
      "\n"
     ]
    }
   ],
   "source": [
    "data_2.show()"
   ]
  },
  {
   "cell_type": "code",
   "execution_count": null,
   "id": "b861acd2-9b82-4ddc-9a5f-7c22f1eb02da",
   "metadata": {},
   "outputs": [],
   "source": []
  }
 ],
 "metadata": {
  "kernelspec": {
   "display_name": "Python [conda env:base] *",
   "language": "python",
   "name": "conda-base-py"
  },
  "language_info": {
   "codemirror_mode": {
    "name": "ipython",
    "version": 3
   },
   "file_extension": ".py",
   "mimetype": "text/x-python",
   "name": "python",
   "nbconvert_exporter": "python",
   "pygments_lexer": "ipython3",
   "version": "3.12.4"
  }
 },
 "nbformat": 4,
 "nbformat_minor": 5
}
