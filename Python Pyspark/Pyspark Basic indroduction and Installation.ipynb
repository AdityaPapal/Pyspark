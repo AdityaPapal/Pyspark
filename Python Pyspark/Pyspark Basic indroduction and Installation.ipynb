{
 "cells": [
  {
   "cell_type": "code",
   "execution_count": 1,
   "id": "9b02e3dd-df0c-44bd-99c9-0ad313118b3e",
   "metadata": {},
   "outputs": [],
   "source": [
    "# Pyspark"
   ]
  },
  {
   "cell_type": "code",
   "execution_count": 2,
   "id": "c199e5aa-10fb-4f8f-9e61-334c7d2f04da",
   "metadata": {},
   "outputs": [],
   "source": [
    "import pyspark"
   ]
  },
  {
   "cell_type": "code",
   "execution_count": 3,
   "id": "f6ab582d-ea1a-4129-9190-d63dfb1f9408",
   "metadata": {},
   "outputs": [],
   "source": [
    "from pyspark.sql import SparkSession"
   ]
  },
  {
   "cell_type": "code",
   "execution_count": 4,
   "id": "f830d758-0754-439b-b220-7e4d10eae57d",
   "metadata": {},
   "outputs": [],
   "source": [
    "spark = SparkSession.builder.appName('Learning').getOrCreate()"
   ]
  },
  {
   "cell_type": "code",
   "execution_count": 5,
   "id": "bbab29f3-469d-4ba7-819d-885884deea18",
   "metadata": {},
   "outputs": [
    {
     "data": {
      "text/html": [
       "\n",
       "            <div>\n",
       "                <p><b>SparkSession - in-memory</b></p>\n",
       "                \n",
       "        <div>\n",
       "            <p><b>SparkContext</b></p>\n",
       "\n",
       "            <p><a href=\"http://Aditya:4040\">Spark UI</a></p>\n",
       "\n",
       "            <dl>\n",
       "              <dt>Version</dt>\n",
       "                <dd><code>v3.5.5</code></dd>\n",
       "              <dt>Master</dt>\n",
       "                <dd><code>local[*]</code></dd>\n",
       "              <dt>AppName</dt>\n",
       "                <dd><code>Learning</code></dd>\n",
       "            </dl>\n",
       "        </div>\n",
       "        \n",
       "            </div>\n",
       "        "
      ],
      "text/plain": [
       "<pyspark.sql.session.SparkSession at 0x228e9427a70>"
      ]
     },
     "execution_count": 5,
     "metadata": {},
     "output_type": "execute_result"
    }
   ],
   "source": [
    "spark"
   ]
  },
  {
   "cell_type": "code",
   "execution_count": 6,
   "id": "0a77c6b3-c138-4821-83b7-d1475b90635d",
   "metadata": {},
   "outputs": [],
   "source": [
    "df = spark.read.csv('example1.csv')"
   ]
  },
  {
   "cell_type": "code",
   "execution_count": 16,
   "id": "aec29315-2705-4e32-9cef-4df1e2971276",
   "metadata": {},
   "outputs": [
    {
     "data": {
      "text/plain": [
       "DataFrame[_c0: string, _c1: string]"
      ]
     },
     "execution_count": 16,
     "metadata": {},
     "output_type": "execute_result"
    }
   ],
   "source": [
    "df"
   ]
  },
  {
   "cell_type": "code",
   "execution_count": 18,
   "id": "9a0b08ab-598b-4f43-893b-48e83b05aa45",
   "metadata": {},
   "outputs": [
    {
     "name": "stdout",
     "output_type": "stream",
     "text": [
      "+----+---+\n",
      "| _c0|_c1|\n",
      "+----+---+\n",
      "|Name|age|\n",
      "|  x1| 10|\n",
      "|  x2| 20|\n",
      "|  x3| 30|\n",
      "|  x4| 40|\n",
      "|  x5| 50|\n",
      "+----+---+\n",
      "\n"
     ]
    }
   ],
   "source": [
    "df.show()"
   ]
  },
  {
   "cell_type": "code",
   "execution_count": 20,
   "id": "bf377ed6-309b-4b1e-98dc-baa710759f0e",
   "metadata": {},
   "outputs": [],
   "source": [
    "df_header = spark.read.option('header','true').csv('example1.csv')"
   ]
  },
  {
   "cell_type": "code",
   "execution_count": 24,
   "id": "43ce45f9-91f5-45f1-ac11-73317139649d",
   "metadata": {},
   "outputs": [
    {
     "name": "stdout",
     "output_type": "stream",
     "text": [
      "+----+---+\n",
      "|Name|age|\n",
      "+----+---+\n",
      "|  x1| 10|\n",
      "|  x2| 20|\n",
      "|  x3| 30|\n",
      "|  x4| 40|\n",
      "|  x5| 50|\n",
      "+----+---+\n",
      "\n"
     ]
    }
   ],
   "source": [
    "df_header.show()"
   ]
  },
  {
   "cell_type": "code",
   "execution_count": 26,
   "id": "935745ea-a189-4f0a-83fc-c23096689451",
   "metadata": {},
   "outputs": [
    {
     "data": {
      "text/plain": [
       "[Row(Name='x1', age='10'), Row(Name='x2', age='20'), Row(Name='x3', age='30')]"
      ]
     },
     "execution_count": 26,
     "metadata": {},
     "output_type": "execute_result"
    }
   ],
   "source": [
    "df_header.head(3)"
   ]
  },
  {
   "cell_type": "code",
   "execution_count": null,
   "id": "66bd8a5d-bd52-4183-8b01-e78337277e7b",
   "metadata": {},
   "outputs": [],
   "source": []
  }
 ],
 "metadata": {
  "kernelspec": {
   "display_name": "Python [conda env:base] *",
   "language": "python",
   "name": "conda-base-py"
  },
  "language_info": {
   "codemirror_mode": {
    "name": "ipython",
    "version": 3
   },
   "file_extension": ".py",
   "mimetype": "text/x-python",
   "name": "python",
   "nbconvert_exporter": "python",
   "pygments_lexer": "ipython3",
   "version": "3.12.4"
  }
 },
 "nbformat": 4,
 "nbformat_minor": 5
}
