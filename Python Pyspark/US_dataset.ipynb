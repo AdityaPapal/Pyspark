{
 "cells": [
  {
   "cell_type": "code",
   "execution_count": 1,
   "id": "2de75d57-f4b8-4878-b2a3-4d8a6d92660c",
   "metadata": {},
   "outputs": [],
   "source": [
    "from pyspark.sql import SparkSession\n",
    "from pyspark.sql.functions import lit\n",
    "from pyspark.sql.functions import col"
   ]
  },
  {
   "cell_type": "code",
   "execution_count": 2,
   "id": "254b220f-e98f-4fc3-a9fa-331332c0d47a",
   "metadata": {},
   "outputs": [],
   "source": [
    "spark = SparkSession.builder.appName(\"US_data_learning\").getOrCreate()"
   ]
  },
  {
   "cell_type": "code",
   "execution_count": 3,
   "id": "b541a283-0050-4aa8-b930-c0ec0a723858",
   "metadata": {},
   "outputs": [
    {
     "data": {
      "text/html": [
       "\n",
       "            <div>\n",
       "                <p><b>SparkSession - in-memory</b></p>\n",
       "                \n",
       "        <div>\n",
       "            <p><b>SparkContext</b></p>\n",
       "\n",
       "            <p><a href=\"http://Aditya:4040\">Spark UI</a></p>\n",
       "\n",
       "            <dl>\n",
       "              <dt>Version</dt>\n",
       "                <dd><code>v3.5.5</code></dd>\n",
       "              <dt>Master</dt>\n",
       "                <dd><code>local[*]</code></dd>\n",
       "              <dt>AppName</dt>\n",
       "                <dd><code>US_data_learning</code></dd>\n",
       "            </dl>\n",
       "        </div>\n",
       "        \n",
       "            </div>\n",
       "        "
      ],
      "text/plain": [
       "<pyspark.sql.session.SparkSession at 0x2094ed151c0>"
      ]
     },
     "execution_count": 3,
     "metadata": {},
     "output_type": "execute_result"
    }
   ],
   "source": [
    "spark"
   ]
  },
  {
   "cell_type": "code",
   "execution_count": 4,
   "id": "da51c103-c7fd-4197-a3a7-d7ff17f7c295",
   "metadata": {},
   "outputs": [],
   "source": [
    "data = spark.read.csv(\"Dataset/US_datasets.csv\",header=True,inferSchema=True)"
   ]
  },
  {
   "cell_type": "code",
   "execution_count": 5,
   "id": "0a5e3d1c-0b9e-477a-ba1e-ef527a385016",
   "metadata": {},
   "outputs": [
    {
     "name": "stdout",
     "output_type": "stream",
     "text": [
      "+-----------+-----------+------------+---------+--------+--------+--------------------+--------------+----------+-----------+----------------+----------------+------------+\n",
      "|   Retailer|Retailer ID|Invoice Date|   Region|   State|    City|             Product|Price per Unit|Units Sold|Total Sales|Operating Profit|Operating Margin|Sales Method|\n",
      "+-----------+-----------+------------+---------+--------+--------+--------------------+--------------+----------+-----------+----------------+----------------+------------+\n",
      "|Foot Locker|    1185732|  01/01/2020|Northeast|New York|New York|Men's Street Foot...|          50.0|     1,200|   600,000 |        300,000 |             50%|    In-store|\n",
      "|Foot Locker|    1185732|  02/01/2020|Northeast|New York|New York|Men's Athletic Fo...|          50.0|     1,000|   500,000 |        150,000 |             30%|    In-store|\n",
      "|Foot Locker|    1185732|  03/01/2020|Northeast|New York|New York|Women's Street Fo...|          40.0|     1,000|   400,000 |        140,000 |             35%|    In-store|\n",
      "|Foot Locker|    1185732|  04/01/2020|Northeast|New York|New York|Women's Athletic ...|          45.0|       850|   382,500 |        133,875 |             35%|    In-store|\n",
      "|Foot Locker|    1185732|  05/01/2020|Northeast|New York|New York|       Men's Apparel|          60.0|       900|   540,000 |        162,000 |             30%|    In-store|\n",
      "|Foot Locker|    1185732|  06/01/2020|Northeast|New York|New York|     Women's Apparel|          50.0|     1,000|   500,000 |        125,000 |             25%|    In-store|\n",
      "|Foot Locker|    1185732|  07/01/2020|Northeast|New York|New York|Men's Street Foot...|          50.0|     1,250|   625,000 |        312,500 |             50%|    In-store|\n",
      "|Foot Locker|    1185732|  08/01/2020|Northeast|New York|New York|Men's Athletic Fo...|          50.0|       900|   450,000 |        135,000 |             30%|      Outlet|\n",
      "|Foot Locker|    1185732|  21/01/2020|Northeast|New York|New York|Women's Street Fo...|          40.0|       950|   380,000 |        133,000 |             35%|      Outlet|\n",
      "|Foot Locker|    1185732|  22/01/2020|Northeast|New York|New York|Women's Athletic ...|          45.0|       825|   371,250 |        129,938 |             35%|      Outlet|\n",
      "|Foot Locker|    1185732|  23/01/2020|Northeast|New York|New York|       Men's Apparel|          60.0|       900|   540,000 |        162,000 |             30%|      Outlet|\n",
      "|Foot Locker|    1185732|  24/01/2020|Northeast|New York|New York|     Women's Apparel|          50.0|     1,000|   500,000 |        125,000 |             25%|      Outlet|\n",
      "|Foot Locker|    1185732|  25/01/2020|Northeast|New York|New York|Men's Street Foot...|          50.0|     1,220|   610,000 |        305,000 |             50%|      Outlet|\n",
      "|Foot Locker|    1185732|  26/01/2020|Northeast|New York|New York|Men's Athletic Fo...|          50.0|       925|   462,500 |        138,750 |             30%|      Outlet|\n",
      "|Foot Locker|    1185732|  27/01/2020|Northeast|New York|New York|Women's Street Fo...|          40.0|       950|   380,000 |        133,000 |             35%|      Outlet|\n",
      "|Foot Locker|    1185732|  28/01/2020|Northeast|New York|New York|Women's Athletic ...|          45.0|       800|   360,000 |        126,000 |             35%|      Outlet|\n",
      "|Foot Locker|    1185732|  29/01/2020|Northeast|New York|New York|       Men's Apparel|          60.0|       850|   510,000 |        153,000 |             30%|      Outlet|\n",
      "|Foot Locker|    1185732|  30/01/2020|Northeast|New York|New York|     Women's Apparel|          50.0|       950|   475,000 |        118,750 |             25%|      Outlet|\n",
      "|Foot Locker|    1185732|  31/01/2020|Northeast|New York|New York|Men's Street Foot...|          50.0|     1,200|   600,000 |        300,000 |             50%|      Outlet|\n",
      "|Foot Locker|    1185732|  01/02/2020|Northeast|New York|New York|Men's Athletic Fo...|          50.0|       900|   450,000 |        135,000 |             30%|      Outlet|\n",
      "+-----------+-----------+------------+---------+--------+--------+--------------------+--------------+----------+-----------+----------------+----------------+------------+\n",
      "only showing top 20 rows\n",
      "\n"
     ]
    }
   ],
   "source": [
    "data.show()"
   ]
  },
  {
   "cell_type": "code",
   "execution_count": 6,
   "id": "34b412a0-d194-4194-86d6-bc303b83bc8f",
   "metadata": {},
   "outputs": [
    {
     "name": "stdout",
     "output_type": "stream",
     "text": [
      "root\n",
      " |-- Retailer: string (nullable = true)\n",
      " |-- Retailer ID: integer (nullable = true)\n",
      " |-- Invoice Date: string (nullable = true)\n",
      " |-- Region: string (nullable = true)\n",
      " |-- State: string (nullable = true)\n",
      " |-- City: string (nullable = true)\n",
      " |-- Product: string (nullable = true)\n",
      " |-- Price per Unit: double (nullable = true)\n",
      " |-- Units Sold: string (nullable = true)\n",
      " |-- Total Sales: string (nullable = true)\n",
      " |-- Operating Profit: string (nullable = true)\n",
      " |-- Operating Margin: string (nullable = true)\n",
      " |-- Sales Method: string (nullable = true)\n",
      "\n"
     ]
    }
   ],
   "source": [
    "data.printSchema()"
   ]
  },
  {
   "cell_type": "code",
   "execution_count": 7,
   "id": "387a0bf0-4c87-41a0-9b4f-e2ac03466812",
   "metadata": {},
   "outputs": [],
   "source": [
    "df = data.select(\n",
    "    \"Retailer\",\n",
    "    \"Retailer ID\", \n",
    "    \"City\",\n",
    "    \"State\",\n",
    "    \"Product\"\n",
    ")"
   ]
  },
  {
   "cell_type": "code",
   "execution_count": 8,
   "id": "2a87a54f-8e13-4c88-b634-af09c63d391c",
   "metadata": {},
   "outputs": [
    {
     "name": "stdout",
     "output_type": "stream",
     "text": [
      "+-----------+-----------+--------+--------+--------------------+\n",
      "|   Retailer|Retailer ID|    City|   State|             Product|\n",
      "+-----------+-----------+--------+--------+--------------------+\n",
      "|Foot Locker|    1185732|New York|New York|Men's Street Foot...|\n",
      "|Foot Locker|    1185732|New York|New York|Men's Athletic Fo...|\n",
      "|Foot Locker|    1185732|New York|New York|Women's Street Fo...|\n",
      "|Foot Locker|    1185732|New York|New York|Women's Athletic ...|\n",
      "|Foot Locker|    1185732|New York|New York|       Men's Apparel|\n",
      "|Foot Locker|    1185732|New York|New York|     Women's Apparel|\n",
      "|Foot Locker|    1185732|New York|New York|Men's Street Foot...|\n",
      "|Foot Locker|    1185732|New York|New York|Men's Athletic Fo...|\n",
      "|Foot Locker|    1185732|New York|New York|Women's Street Fo...|\n",
      "|Foot Locker|    1185732|New York|New York|Women's Athletic ...|\n",
      "|Foot Locker|    1185732|New York|New York|       Men's Apparel|\n",
      "|Foot Locker|    1185732|New York|New York|     Women's Apparel|\n",
      "|Foot Locker|    1185732|New York|New York|Men's Street Foot...|\n",
      "|Foot Locker|    1185732|New York|New York|Men's Athletic Fo...|\n",
      "|Foot Locker|    1185732|New York|New York|Women's Street Fo...|\n",
      "|Foot Locker|    1185732|New York|New York|Women's Athletic ...|\n",
      "|Foot Locker|    1185732|New York|New York|       Men's Apparel|\n",
      "|Foot Locker|    1185732|New York|New York|     Women's Apparel|\n",
      "|Foot Locker|    1185732|New York|New York|Men's Street Foot...|\n",
      "|Foot Locker|    1185732|New York|New York|Men's Athletic Fo...|\n",
      "+-----------+-----------+--------+--------+--------------------+\n",
      "only showing top 20 rows\n",
      "\n"
     ]
    }
   ],
   "source": [
    "df.show()"
   ]
  },
  {
   "cell_type": "code",
   "execution_count": 9,
   "id": "8fdbb424-a76f-4afd-8853-b0ca57cdb446",
   "metadata": {},
   "outputs": [
    {
     "name": "stdout",
     "output_type": "stream",
     "text": [
      "+-----------+-----------+--------+--------+--------------------+--------+\n",
      "|   Retailer|Retailer ID|    City|   State|             Product|    Temp|\n",
      "+-----------+-----------+--------+--------+--------------------+--------+\n",
      "|Foot Locker|    1185732|New York|New York|Men's Street Foot...|11857320|\n",
      "|Foot Locker|    1185732|New York|New York|Men's Athletic Fo...|11857320|\n",
      "|Foot Locker|    1185732|New York|New York|Women's Street Fo...|11857320|\n",
      "|Foot Locker|    1185732|New York|New York|Women's Athletic ...|11857320|\n",
      "|Foot Locker|    1185732|New York|New York|       Men's Apparel|11857320|\n",
      "|Foot Locker|    1185732|New York|New York|     Women's Apparel|11857320|\n",
      "|Foot Locker|    1185732|New York|New York|Men's Street Foot...|11857320|\n",
      "|Foot Locker|    1185732|New York|New York|Men's Athletic Fo...|11857320|\n",
      "|Foot Locker|    1185732|New York|New York|Women's Street Fo...|11857320|\n",
      "|Foot Locker|    1185732|New York|New York|Women's Athletic ...|11857320|\n",
      "|Foot Locker|    1185732|New York|New York|       Men's Apparel|11857320|\n",
      "|Foot Locker|    1185732|New York|New York|     Women's Apparel|11857320|\n",
      "|Foot Locker|    1185732|New York|New York|Men's Street Foot...|11857320|\n",
      "|Foot Locker|    1185732|New York|New York|Men's Athletic Fo...|11857320|\n",
      "|Foot Locker|    1185732|New York|New York|Women's Street Fo...|11857320|\n",
      "|Foot Locker|    1185732|New York|New York|Women's Athletic ...|11857320|\n",
      "|Foot Locker|    1185732|New York|New York|       Men's Apparel|11857320|\n",
      "|Foot Locker|    1185732|New York|New York|     Women's Apparel|11857320|\n",
      "|Foot Locker|    1185732|New York|New York|Men's Street Foot...|11857320|\n",
      "|Foot Locker|    1185732|New York|New York|Men's Athletic Fo...|11857320|\n",
      "+-----------+-----------+--------+--------+--------------------+--------+\n",
      "only showing top 20 rows\n",
      "\n"
     ]
    }
   ],
   "source": [
    "# create new column\n",
    "df.withColumn(\"Temp\",df['Retailer ID']*10).show()"
   ]
  },
  {
   "cell_type": "code",
   "execution_count": 10,
   "id": "2d53a2f9-553e-462d-b7de-53f45db15746",
   "metadata": {},
   "outputs": [
    {
     "name": "stdout",
     "output_type": "stream",
     "text": [
      "+-----------+-----------+--------+--------+--------------------+------------+\n",
      "|   Retailer|Retailer ID|    City|   State|             Product|temp_country|\n",
      "+-----------+-----------+--------+--------+--------------------+------------+\n",
      "|Foot Locker|    1185732|New York|New York|Men's Street Foot...|         IND|\n",
      "|Foot Locker|    1185732|New York|New York|Men's Athletic Fo...|         IND|\n",
      "|Foot Locker|    1185732|New York|New York|Women's Street Fo...|         IND|\n",
      "|Foot Locker|    1185732|New York|New York|Women's Athletic ...|         IND|\n",
      "|Foot Locker|    1185732|New York|New York|       Men's Apparel|         IND|\n",
      "|Foot Locker|    1185732|New York|New York|     Women's Apparel|         IND|\n",
      "|Foot Locker|    1185732|New York|New York|Men's Street Foot...|         IND|\n",
      "|Foot Locker|    1185732|New York|New York|Men's Athletic Fo...|         IND|\n",
      "|Foot Locker|    1185732|New York|New York|Women's Street Fo...|         IND|\n",
      "|Foot Locker|    1185732|New York|New York|Women's Athletic ...|         IND|\n",
      "|Foot Locker|    1185732|New York|New York|       Men's Apparel|         IND|\n",
      "|Foot Locker|    1185732|New York|New York|     Women's Apparel|         IND|\n",
      "|Foot Locker|    1185732|New York|New York|Men's Street Foot...|         IND|\n",
      "|Foot Locker|    1185732|New York|New York|Men's Athletic Fo...|         IND|\n",
      "|Foot Locker|    1185732|New York|New York|Women's Street Fo...|         IND|\n",
      "|Foot Locker|    1185732|New York|New York|Women's Athletic ...|         IND|\n",
      "|Foot Locker|    1185732|New York|New York|       Men's Apparel|         IND|\n",
      "|Foot Locker|    1185732|New York|New York|     Women's Apparel|         IND|\n",
      "|Foot Locker|    1185732|New York|New York|Men's Street Foot...|         IND|\n",
      "|Foot Locker|    1185732|New York|New York|Men's Athletic Fo...|         IND|\n",
      "+-----------+-----------+--------+--------+--------------------+------------+\n",
      "only showing top 20 rows\n",
      "\n"
     ]
    }
   ],
   "source": [
    "df.withColumn(\"temp_country\",lit(\"IND\")).show()"
   ]
  },
  {
   "cell_type": "code",
   "execution_count": 11,
   "id": "1c60accf-1e3d-4775-b3c8-222f4c7e593d",
   "metadata": {},
   "outputs": [],
   "source": [
    "# casting columns"
   ]
  },
  {
   "cell_type": "code",
   "execution_count": 12,
   "id": "3e50dbff-9ed8-40ae-a0f5-cf3c7468d0e0",
   "metadata": {},
   "outputs": [],
   "source": [
    "df1 = df.withColumn(\n",
    "    \"Retailer ID\", col(\"Retailer ID\").cast(\"string\")\n",
    ")"
   ]
  },
  {
   "cell_type": "code",
   "execution_count": 13,
   "id": "8bf206c3-0b0c-4f79-954e-f85c777395cc",
   "metadata": {},
   "outputs": [
    {
     "name": "stdout",
     "output_type": "stream",
     "text": [
      "+-----------+-----------+--------+--------+--------------------+\n",
      "|   Retailer|Retailer ID|    City|   State|             Product|\n",
      "+-----------+-----------+--------+--------+--------------------+\n",
      "|Foot Locker|    1185732|New York|New York|Men's Street Foot...|\n",
      "|Foot Locker|    1185732|New York|New York|Men's Athletic Fo...|\n",
      "|Foot Locker|    1185732|New York|New York|Women's Street Fo...|\n",
      "|Foot Locker|    1185732|New York|New York|Women's Athletic ...|\n",
      "|Foot Locker|    1185732|New York|New York|       Men's Apparel|\n",
      "|Foot Locker|    1185732|New York|New York|     Women's Apparel|\n",
      "|Foot Locker|    1185732|New York|New York|Men's Street Foot...|\n",
      "|Foot Locker|    1185732|New York|New York|Men's Athletic Fo...|\n",
      "|Foot Locker|    1185732|New York|New York|Women's Street Fo...|\n",
      "|Foot Locker|    1185732|New York|New York|Women's Athletic ...|\n",
      "|Foot Locker|    1185732|New York|New York|       Men's Apparel|\n",
      "|Foot Locker|    1185732|New York|New York|     Women's Apparel|\n",
      "|Foot Locker|    1185732|New York|New York|Men's Street Foot...|\n",
      "|Foot Locker|    1185732|New York|New York|Men's Athletic Fo...|\n",
      "|Foot Locker|    1185732|New York|New York|Women's Street Fo...|\n",
      "|Foot Locker|    1185732|New York|New York|Women's Athletic ...|\n",
      "|Foot Locker|    1185732|New York|New York|       Men's Apparel|\n",
      "|Foot Locker|    1185732|New York|New York|     Women's Apparel|\n",
      "|Foot Locker|    1185732|New York|New York|Men's Street Foot...|\n",
      "|Foot Locker|    1185732|New York|New York|Men's Athletic Fo...|\n",
      "+-----------+-----------+--------+--------+--------------------+\n",
      "only showing top 20 rows\n",
      "\n"
     ]
    }
   ],
   "source": [
    "df1.show()"
   ]
  },
  {
   "cell_type": "code",
   "execution_count": 14,
   "id": "796f43d7-a034-4fb2-909b-db08d67a643b",
   "metadata": {},
   "outputs": [
    {
     "ename": "Py4JJavaError",
     "evalue": "An error occurred while calling o50.selectExpr.\n: java.lang.ClassCastException: class java.util.ArrayList cannot be cast to class java.lang.String (java.util.ArrayList and java.lang.String are in module java.base of loader 'bootstrap')\r\n\tat scala.collection.TraversableLike.$anonfun$map$1(TraversableLike.scala:286)\r\n\tat scala.collection.Iterator.foreach(Iterator.scala:943)\r\n\tat scala.collection.Iterator.foreach$(Iterator.scala:943)\r\n\tat scala.collection.AbstractIterator.foreach(Iterator.scala:1431)\r\n\tat scala.collection.IterableLike.foreach(IterableLike.scala:74)\r\n\tat scala.collection.IterableLike.foreach$(IterableLike.scala:73)\r\n\tat scala.collection.AbstractIterable.foreach(Iterable.scala:56)\r\n\tat scala.collection.TraversableLike.map(TraversableLike.scala:286)\r\n\tat scala.collection.TraversableLike.map$(TraversableLike.scala:279)\r\n\tat scala.collection.AbstractTraversable.map(Traversable.scala:108)\r\n\tat org.apache.spark.sql.Dataset.$anonfun$selectExpr$1(Dataset.scala:1576)\r\n\tat org.apache.spark.sql.SparkSession.withActive(SparkSession.scala:900)\r\n\tat org.apache.spark.sql.Dataset.selectExpr(Dataset.scala:1576)\r\n\tat java.base/jdk.internal.reflect.NativeMethodAccessorImpl.invoke0(Native Method)\r\n\tat java.base/jdk.internal.reflect.NativeMethodAccessorImpl.invoke(NativeMethodAccessorImpl.java:75)\r\n\tat java.base/jdk.internal.reflect.DelegatingMethodAccessorImpl.invoke(DelegatingMethodAccessorImpl.java:52)\r\n\tat java.base/java.lang.reflect.Method.invoke(Method.java:580)\r\n\tat py4j.reflection.MethodInvoker.invoke(MethodInvoker.java:244)\r\n\tat py4j.reflection.ReflectionEngine.invoke(ReflectionEngine.java:374)\r\n\tat py4j.Gateway.invoke(Gateway.java:282)\r\n\tat py4j.commands.AbstractCommand.invokeMethod(AbstractCommand.java:132)\r\n\tat py4j.commands.CallCommand.execute(CallCommand.java:79)\r\n\tat py4j.ClientServerConnection.waitForCommands(ClientServerConnection.java:182)\r\n\tat py4j.ClientServerConnection.run(ClientServerConnection.java:106)\r\n\tat java.base/java.lang.Thread.run(Thread.java:1583)\r\n",
     "output_type": "error",
     "traceback": [
      "\u001b[1;31m---------------------------------------------------------------------------\u001b[0m",
      "\u001b[1;31mPy4JJavaError\u001b[0m                             Traceback (most recent call last)",
      "Cell \u001b[1;32mIn[14], line 1\u001b[0m\n\u001b[1;32m----> 1\u001b[0m df1\u001b[38;5;241m.\u001b[39mselectExpr(\n\u001b[0;32m      2\u001b[0m     (\u001b[38;5;124m\"\u001b[39m\u001b[38;5;124mRetailer ID as bigint\u001b[39m\u001b[38;5;124m\"\u001b[39m,\u001b[38;5;124m\"\u001b[39m\u001b[38;5;124mretailer_id\u001b[39m\u001b[38;5;124m\"\u001b[39m)\n\u001b[0;32m      3\u001b[0m )\n",
      "File \u001b[1;32m~\\anaconda3\\Lib\\site-packages\\pyspark\\sql\\dataframe.py:3269\u001b[0m, in \u001b[0;36mDataFrame.selectExpr\u001b[1;34m(self, *expr)\u001b[0m\n\u001b[0;32m   3267\u001b[0m \u001b[38;5;28;01mif\u001b[39;00m \u001b[38;5;28mlen\u001b[39m(expr) \u001b[38;5;241m==\u001b[39m \u001b[38;5;241m1\u001b[39m \u001b[38;5;129;01mand\u001b[39;00m \u001b[38;5;28misinstance\u001b[39m(expr[\u001b[38;5;241m0\u001b[39m], \u001b[38;5;28mlist\u001b[39m):\n\u001b[0;32m   3268\u001b[0m     expr \u001b[38;5;241m=\u001b[39m expr[\u001b[38;5;241m0\u001b[39m]  \u001b[38;5;66;03m# type: ignore[assignment]\u001b[39;00m\n\u001b[1;32m-> 3269\u001b[0m jdf \u001b[38;5;241m=\u001b[39m \u001b[38;5;28mself\u001b[39m\u001b[38;5;241m.\u001b[39m_jdf\u001b[38;5;241m.\u001b[39mselectExpr(\u001b[38;5;28mself\u001b[39m\u001b[38;5;241m.\u001b[39m_jseq(expr))\n\u001b[0;32m   3270\u001b[0m \u001b[38;5;28;01mreturn\u001b[39;00m DataFrame(jdf, \u001b[38;5;28mself\u001b[39m\u001b[38;5;241m.\u001b[39msparkSession)\n",
      "File \u001b[1;32m~\\anaconda3\\Lib\\site-packages\\py4j\\java_gateway.py:1322\u001b[0m, in \u001b[0;36mJavaMember.__call__\u001b[1;34m(self, *args)\u001b[0m\n\u001b[0;32m   1316\u001b[0m command \u001b[38;5;241m=\u001b[39m proto\u001b[38;5;241m.\u001b[39mCALL_COMMAND_NAME \u001b[38;5;241m+\u001b[39m\\\n\u001b[0;32m   1317\u001b[0m     \u001b[38;5;28mself\u001b[39m\u001b[38;5;241m.\u001b[39mcommand_header \u001b[38;5;241m+\u001b[39m\\\n\u001b[0;32m   1318\u001b[0m     args_command \u001b[38;5;241m+\u001b[39m\\\n\u001b[0;32m   1319\u001b[0m     proto\u001b[38;5;241m.\u001b[39mEND_COMMAND_PART\n\u001b[0;32m   1321\u001b[0m answer \u001b[38;5;241m=\u001b[39m \u001b[38;5;28mself\u001b[39m\u001b[38;5;241m.\u001b[39mgateway_client\u001b[38;5;241m.\u001b[39msend_command(command)\n\u001b[1;32m-> 1322\u001b[0m return_value \u001b[38;5;241m=\u001b[39m get_return_value(\n\u001b[0;32m   1323\u001b[0m     answer, \u001b[38;5;28mself\u001b[39m\u001b[38;5;241m.\u001b[39mgateway_client, \u001b[38;5;28mself\u001b[39m\u001b[38;5;241m.\u001b[39mtarget_id, \u001b[38;5;28mself\u001b[39m\u001b[38;5;241m.\u001b[39mname)\n\u001b[0;32m   1325\u001b[0m \u001b[38;5;28;01mfor\u001b[39;00m temp_arg \u001b[38;5;129;01min\u001b[39;00m temp_args:\n\u001b[0;32m   1326\u001b[0m     \u001b[38;5;28;01mif\u001b[39;00m \u001b[38;5;28mhasattr\u001b[39m(temp_arg, \u001b[38;5;124m\"\u001b[39m\u001b[38;5;124m_detach\u001b[39m\u001b[38;5;124m\"\u001b[39m):\n",
      "File \u001b[1;32m~\\anaconda3\\Lib\\site-packages\\pyspark\\errors\\exceptions\\captured.py:179\u001b[0m, in \u001b[0;36mcapture_sql_exception.<locals>.deco\u001b[1;34m(*a, **kw)\u001b[0m\n\u001b[0;32m    177\u001b[0m \u001b[38;5;28;01mdef\u001b[39;00m \u001b[38;5;21mdeco\u001b[39m(\u001b[38;5;241m*\u001b[39ma: Any, \u001b[38;5;241m*\u001b[39m\u001b[38;5;241m*\u001b[39mkw: Any) \u001b[38;5;241m-\u001b[39m\u001b[38;5;241m>\u001b[39m Any:\n\u001b[0;32m    178\u001b[0m     \u001b[38;5;28;01mtry\u001b[39;00m:\n\u001b[1;32m--> 179\u001b[0m         \u001b[38;5;28;01mreturn\u001b[39;00m f(\u001b[38;5;241m*\u001b[39ma, \u001b[38;5;241m*\u001b[39m\u001b[38;5;241m*\u001b[39mkw)\n\u001b[0;32m    180\u001b[0m     \u001b[38;5;28;01mexcept\u001b[39;00m Py4JJavaError \u001b[38;5;28;01mas\u001b[39;00m e:\n\u001b[0;32m    181\u001b[0m         converted \u001b[38;5;241m=\u001b[39m convert_exception(e\u001b[38;5;241m.\u001b[39mjava_exception)\n",
      "File \u001b[1;32m~\\anaconda3\\Lib\\site-packages\\py4j\\protocol.py:326\u001b[0m, in \u001b[0;36mget_return_value\u001b[1;34m(answer, gateway_client, target_id, name)\u001b[0m\n\u001b[0;32m    324\u001b[0m value \u001b[38;5;241m=\u001b[39m OUTPUT_CONVERTER[\u001b[38;5;28mtype\u001b[39m](answer[\u001b[38;5;241m2\u001b[39m:], gateway_client)\n\u001b[0;32m    325\u001b[0m \u001b[38;5;28;01mif\u001b[39;00m answer[\u001b[38;5;241m1\u001b[39m] \u001b[38;5;241m==\u001b[39m REFERENCE_TYPE:\n\u001b[1;32m--> 326\u001b[0m     \u001b[38;5;28;01mraise\u001b[39;00m Py4JJavaError(\n\u001b[0;32m    327\u001b[0m         \u001b[38;5;124m\"\u001b[39m\u001b[38;5;124mAn error occurred while calling \u001b[39m\u001b[38;5;132;01m{0}\u001b[39;00m\u001b[38;5;132;01m{1}\u001b[39;00m\u001b[38;5;132;01m{2}\u001b[39;00m\u001b[38;5;124m.\u001b[39m\u001b[38;5;130;01m\\n\u001b[39;00m\u001b[38;5;124m\"\u001b[39m\u001b[38;5;241m.\u001b[39m\n\u001b[0;32m    328\u001b[0m         \u001b[38;5;28mformat\u001b[39m(target_id, \u001b[38;5;124m\"\u001b[39m\u001b[38;5;124m.\u001b[39m\u001b[38;5;124m\"\u001b[39m, name), value)\n\u001b[0;32m    329\u001b[0m \u001b[38;5;28;01melse\u001b[39;00m:\n\u001b[0;32m    330\u001b[0m     \u001b[38;5;28;01mraise\u001b[39;00m Py4JError(\n\u001b[0;32m    331\u001b[0m         \u001b[38;5;124m\"\u001b[39m\u001b[38;5;124mAn error occurred while calling \u001b[39m\u001b[38;5;132;01m{0}\u001b[39;00m\u001b[38;5;132;01m{1}\u001b[39;00m\u001b[38;5;132;01m{2}\u001b[39;00m\u001b[38;5;124m. Trace:\u001b[39m\u001b[38;5;130;01m\\n\u001b[39;00m\u001b[38;5;132;01m{3}\u001b[39;00m\u001b[38;5;130;01m\\n\u001b[39;00m\u001b[38;5;124m\"\u001b[39m\u001b[38;5;241m.\u001b[39m\n\u001b[0;32m    332\u001b[0m         \u001b[38;5;28mformat\u001b[39m(target_id, \u001b[38;5;124m\"\u001b[39m\u001b[38;5;124m.\u001b[39m\u001b[38;5;124m\"\u001b[39m, name, value))\n",
      "\u001b[1;31mPy4JJavaError\u001b[0m: An error occurred while calling o50.selectExpr.\n: java.lang.ClassCastException: class java.util.ArrayList cannot be cast to class java.lang.String (java.util.ArrayList and java.lang.String are in module java.base of loader 'bootstrap')\r\n\tat scala.collection.TraversableLike.$anonfun$map$1(TraversableLike.scala:286)\r\n\tat scala.collection.Iterator.foreach(Iterator.scala:943)\r\n\tat scala.collection.Iterator.foreach$(Iterator.scala:943)\r\n\tat scala.collection.AbstractIterator.foreach(Iterator.scala:1431)\r\n\tat scala.collection.IterableLike.foreach(IterableLike.scala:74)\r\n\tat scala.collection.IterableLike.foreach$(IterableLike.scala:73)\r\n\tat scala.collection.AbstractIterable.foreach(Iterable.scala:56)\r\n\tat scala.collection.TraversableLike.map(TraversableLike.scala:286)\r\n\tat scala.collection.TraversableLike.map$(TraversableLike.scala:279)\r\n\tat scala.collection.AbstractTraversable.map(Traversable.scala:108)\r\n\tat org.apache.spark.sql.Dataset.$anonfun$selectExpr$1(Dataset.scala:1576)\r\n\tat org.apache.spark.sql.SparkSession.withActive(SparkSession.scala:900)\r\n\tat org.apache.spark.sql.Dataset.selectExpr(Dataset.scala:1576)\r\n\tat java.base/jdk.internal.reflect.NativeMethodAccessorImpl.invoke0(Native Method)\r\n\tat java.base/jdk.internal.reflect.NativeMethodAccessorImpl.invoke(NativeMethodAccessorImpl.java:75)\r\n\tat java.base/jdk.internal.reflect.DelegatingMethodAccessorImpl.invoke(DelegatingMethodAccessorImpl.java:52)\r\n\tat java.base/java.lang.reflect.Method.invoke(Method.java:580)\r\n\tat py4j.reflection.MethodInvoker.invoke(MethodInvoker.java:244)\r\n\tat py4j.reflection.ReflectionEngine.invoke(ReflectionEngine.java:374)\r\n\tat py4j.Gateway.invoke(Gateway.java:282)\r\n\tat py4j.commands.AbstractCommand.invokeMethod(AbstractCommand.java:132)\r\n\tat py4j.commands.CallCommand.execute(CallCommand.java:79)\r\n\tat py4j.ClientServerConnection.waitForCommands(ClientServerConnection.java:182)\r\n\tat py4j.ClientServerConnection.run(ClientServerConnection.java:106)\r\n\tat java.base/java.lang.Thread.run(Thread.java:1583)\r\n"
     ]
    }
   ],
   "source": [
    "df1.selectExpr(\n",
    "    (\"Retailer ID as bigint\",\"retailer_id\")\n",
    ")"
   ]
  },
  {
   "cell_type": "code",
   "execution_count": null,
   "id": "27f6d273-9678-401a-a84f-ceb2773bb503",
   "metadata": {},
   "outputs": [],
   "source": []
  }
 ],
 "metadata": {
  "kernelspec": {
   "display_name": "Python [conda env:base] *",
   "language": "python",
   "name": "conda-base-py"
  },
  "language_info": {
   "codemirror_mode": {
    "name": "ipython",
    "version": 3
   },
   "file_extension": ".py",
   "mimetype": "text/x-python",
   "name": "python",
   "nbconvert_exporter": "python",
   "pygments_lexer": "ipython3",
   "version": "3.12.4"
  }
 },
 "nbformat": 4,
 "nbformat_minor": 5
}
